{
  "cells": [
    {
      "cell_type": "markdown",
      "metadata": {
        "id": "XelxeqnF83-8"
      },
      "source": [
        "# Import paket yang dibuthkan"
      ]
    },
    {
      "cell_type": "code",
      "execution_count": 1,
      "metadata": {
        "id": "p8ZoXADY83_B"
      },
      "outputs": [],
      "source": [
        "import matplotlib.pyplot as plt\n",
        "import matplotlib.image as img\n",
        "import tensorflow as tf\n",
        "import pandas as pd\n",
        "import glob \n",
        "import cv2 as cv\n",
        "import os\n",
        "import numpy as np\n",
        "from PIL import Image,ImageFile\n",
        "from PIL import ImageOps\n",
        "from random import shuffle\n",
        "import pickle\n",
        "import warnings\n",
        "import joblib\n",
        "warnings.filterwarnings('ignore')\n",
        "from tensorflow.keras.preprocessing.image import ImageDataGenerator\n",
        "from tensorflow.keras import layers"
      ]
    },
    {
      "cell_type": "markdown",
      "metadata": {},
      "source": [
        "If use in local dont use it, because colab must zip data so that the data is not too large when uploaded"
      ]
    },
    {
      "cell_type": "markdown",
      "metadata": {
        "id": "q5CaZozy9sMK"
      },
      "source": [
        "Using Google Colab :\n",
        "- upload dataset zip \n",
        "- unzip dataset  "
      ]
    },
    {
      "cell_type": "markdown",
      "metadata": {
        "id": "WUmPscHN9plM"
      },
      "source": [
        "# Unzip dataset"
      ]
    },
    {
      "cell_type": "code",
      "execution_count": null,
      "metadata": {
        "colab": {
          "base_uri": "https://localhost:8080/"
        },
        "id": "RFvRx5sL9rwz",
        "outputId": "b8290967-369d-42d5-b929-e5c38a58abab"
      },
      "outputs": [],
      "source": [
        "!unzip  Label_data.zip"
      ]
    },
    {
      "cell_type": "markdown",
      "metadata": {
        "id": "_DE0IYfl83_C"
      },
      "source": [
        "# Load data gambar"
      ]
    },
    {
      "cell_type": "code",
      "execution_count": 9,
      "metadata": {
        "id": "ydRET_4_83_D"
      },
      "outputs": [],
      "source": [
        "anemia_images=[] #Load data Anemia\n",
        "for dir in glob.glob('ANEMIA'):\n",
        "    for image in glob.glob(os.path.join(dir,\"*png\")):\n",
        "        img=cv.imread(image)\n",
        "        anemia_images.append(img)"
      ]
    },
    {
      "cell_type": "code",
      "execution_count": 10,
      "metadata": {
        "id": "VjnuSXTi83_D"
      },
      "outputs": [],
      "source": [
        "plot_anemia_images=np.array(anemia_images)"
      ]
    },
    {
      "cell_type": "code",
      "execution_count": 12,
      "metadata": {
        "id": "cs8BhaJy83_F"
      },
      "outputs": [],
      "source": [
        "normal_images=[] #Load data Normal\n",
        "for dir in glob.glob('NORMAL'):\n",
        "    for image in glob.glob(os.path.join(dir,\"*png\")):\n",
        "        img=cv.imread(image)\n",
        "        normal_images.append(img)"
      ]
    },
    {
      "cell_type": "code",
      "execution_count": 13,
      "metadata": {
        "id": "SL48NiJB83_F"
      },
      "outputs": [],
      "source": [
        "plot_normal_images=np.array(normal_images)"
      ]
    },
    {
      "cell_type": "markdown",
      "metadata": {},
      "source": [
        "# Explore data"
      ]
    },
    {
      "cell_type": "code",
      "execution_count": 14,
      "metadata": {
        "colab": {
          "base_uri": "https://localhost:8080/"
        },
        "id": "nV26aocM83_G",
        "outputId": "2364227b-348f-49e9-bdba-b7d8a4aff51c"
      },
      "outputs": [
        {
          "name": "stdout",
          "output_type": "stream",
          "text": [
            "Total Gambar Anemia -> 74\n",
            "Total Gambar Normal -> 144\n"
          ]
        }
      ],
      "source": [
        "print(\"Total Gambar Anemia ->\",len(anemia_images))\n",
        "print(\"Total Gambar Normal ->\",len(normal_images))"
      ]
    },
    {
      "cell_type": "code",
      "execution_count": 17,
      "metadata": {},
      "outputs": [
        {
          "data": {
            "image/png": "[encoded data removed]",
            "text/plain": [
              "<Figure size 936x360 with 1 Axes>"
            ]
          },
          "metadata": {
            "needs_background": "light"
          },
          "output_type": "display_data"
        }
      ],
      "source": [
        "import pandas as pd\n",
        "\n",
        "# visualisasi jumlah data training dan data validation\n",
        "data= [len(anemia_images),len(normal_images)]\n",
        "\n",
        "index = ['Anemia','Normal']\n",
        "data_am = pd.DataFrame({'data': data}, index=index)\n",
        "ax = data_am.plot.bar(rot=0, color=['orange'], figsize=(13,5))\n",
        "ax.set_title(\"Jumlah Data Anemia dan Normal \")\n",
        "for p in ax.patches:\n",
        "    ax.annotate(str(p.get_height()), (p.get_x() * 1.005, p.get_height() * 1.005))\n",
        "    plt.savefig(\"Data.png\")\n"
      ]
    },
    {
      "cell_type": "markdown",
      "metadata": {
        "id": "jjaHape083_H"
      },
      "source": [
        "## Visualize data image"
      ]
    },
    {
      "cell_type": "code",
      "execution_count": 7,
      "metadata": {
        "id": "qO5uphJX83_I"
      },
      "outputs": [],
      "source": [
        "def load_images(images):\n",
        "    # Tampilkan Gambar\n",
        "    fig = plt.figure(figsize=(15,15))\n",
        "    for i in range(5):\n",
        "        plt.subplot(5,5,i+1)\n",
        "        plt.xticks([])\n",
        "        plt.yticks([])\n",
        "        plt.title(\"Image data\")\n",
        "        plt.grid(False)\n",
        "        plt.imshow(images[i],cmap=plt.cm.binary)\n",
        "    plt.show()"
      ]
    },
    {
      "cell_type": "code",
      "execution_count": 8,
      "metadata": {
        "colab": {
          "base_uri": "https://localhost:8080/",
          "height": 144
        },
        "id": "m_ZpIvBn83_I",
        "outputId": "d8baa60c-ebf1-4551-8469-962eafc8a4d8"
      },
      "outputs": [
        {
          "data": {
            "image/png": "[encoded data removed]",
            "text/plain": [
              "<Figure size 1080x1080 with 5 Axes>"
            ]
          },
          "metadata": {},
          "output_type": "display_data"
        }
      ],
      "source": [
        "#  tampilkan anemia images\n",
        "load_images(plot_anemia_images)"
      ]
    },
    {
      "cell_type": "code",
      "execution_count": 9,
      "metadata": {
        "colab": {
          "base_uri": "https://localhost:8080/",
          "height": 144
        },
        "id": "Jvj-3vBI83_J",
        "outputId": "7dc44ceb-64a1-4f6c-8f81-382423b78f1d"
      },
      "outputs": [
        {
          "data": {
            "image/png": "[encoded data removed]",
            "text/plain": [
              "<Figure size 1080x1080 with 5 Axes>"
            ]
          },
          "metadata": {},
          "output_type": "display_data"
        }
      ],
      "source": [
        "#  tampilkan normal images\n",
        "load_images(plot_normal_images)"
      ]
    },
    {
      "cell_type": "markdown",
      "metadata": {
        "id": "6A8bY2wO83_J"
      },
      "source": [
        "# Augmentasi"
      ]
    },
    {
      "cell_type": "code",
      "execution_count": 11,
      "metadata": {
        "id": "WVgZbys983_J"
      },
      "outputs": [],
      "source": [
        "import albumentations as alb"
      ]
    },
    {
      "cell_type": "code",
      "execution_count": 12,
      "metadata": {
        "id": "h8CjQC-X83_K"
      },
      "outputs": [],
      "source": [
        "aug=alb.Compose([\n",
        "                alb.HorizontalFlip(p=0.5),\n",
        "                alb.RandomBrightnessContrast(p=0.2),\n",
        "                alb.RandomContrast(p=0.2)\n",
        "                         ])"
      ]
    },
    {
      "cell_type": "markdown",
      "metadata": {
        "id": "L0mO6VPm83_K"
      },
      "source": [
        "### Save Augmentation image"
      ]
    },
    {
      "cell_type": "markdown",
      "metadata": {
        "id": "Z2x_hkKQ83_K"
      },
      "source": [
        "#### Save normal image"
      ]
    },
    {
      "cell_type": "markdown",
      "metadata": {
        "id": "vIwoTTpN_W3o"
      },
      "source": [
        "Make directory for Save augmented image"
      ]
    },
    {
      "cell_type": "code",
      "execution_count": 13,
      "metadata": {
        "id": "j9s6sEIrCroc"
      },
      "outputs": [],
      "source": [
        "from functools import partial"
      ]
    },
    {
      "cell_type": "code",
      "execution_count": 14,
      "metadata": {
        "id": "r6P3tBYK_GxH"
      },
      "outputs": [],
      "source": [
        "list = ('train/NORMAL','train/ANEMIA')\n",
        "\n",
        "concat_root_path = partial(os.path.join)\n",
        "make_directory = partial(os.makedirs, exist_ok=True)\n",
        "  \n",
        "for path_items in map(concat_root_path, list):\n",
        "    make_directory(path_items)"
      ]
    },
    {
      "cell_type": "code",
      "execution_count": 15,
      "metadata": {
        "id": "XEITRX8ED9Sx"
      },
      "outputs": [],
      "source": [
        "list = ('test/NORMAL','test/ANEMIA')\n",
        "\n",
        "concat_root_path = partial(os.path.join)\n",
        "make_directory = partial(os.makedirs, exist_ok=True)\n",
        "  \n",
        "for path_items in map(concat_root_path, list):\n",
        "    make_directory(path_items)"
      ]
    },
    {
      "cell_type": "code",
      "execution_count": 55,
      "metadata": {
        "id": "mkTQ_jnRGBOQ"
      },
      "outputs": [],
      "source": [
        "import shutil"
      ]
    },
    {
      "cell_type": "code",
      "execution_count": 107,
      "metadata": {
        "id": "dIN__vYJFye0"
      },
      "outputs": [],
      "source": [
        "#  JANGAN DI RUN KARENA DAPAT MENGAHPUS FOLDER YANG SUDAH DIBUAT\n",
        "# DI RUN JIKA HANYA TERJADI KESALAHAN\n",
        "# shutil.rmtree('test')\n",
        "# shutil.rmtree('train')"
      ]
    },
    {
      "cell_type": "code",
      "execution_count": 16,
      "metadata": {
        "id": "HPjiS-zV83_L"
      },
      "outputs": [],
      "source": [
        "for image_load in ['NORMAL'] :\n",
        "    for label in ['NORMAL']:\n",
        "        for partition in ['train','test']: \n",
        "            for image in os.listdir(os.path.join( 'NORMAL')):\n",
        "                img = cv.imread(os.path.join( image_load,  image))\n",
        "                try: \n",
        "                    for x in range(60):\n",
        "                        augmented = aug(image=img)\n",
        "                        cv.imwrite(os.path.join(partition,label, f'{image.split(\".\")[0]}.{x}.jpg'))\n",
        "                except Exception as e:\n",
        "                    print(e)"
      ]
    },
    {
      "cell_type": "markdown",
      "metadata": {
        "id": "lyFiBzR-83_L"
      },
      "source": [
        "#### Save anemia image"
      ]
    },
    {
      "cell_type": "code",
      "execution_count": 17,
      "metadata": {
        "id": "eawSk3oS83_L"
      },
      "outputs": [],
      "source": [
        "for image_load in ['ANEMIA'] :\n",
        "    for label in ['ANEMIA']:\n",
        "        for partition in ['train','test']: \n",
        "            for image in os.listdir(os.path.join(image_load)):\n",
        "                img = cv.imread(os.path.join(image_load,  image))\n",
        "                try: \n",
        "                    for x in range(60):\n",
        "                        augmented = aug(image=img)\n",
        "                        cv.imwrite(os.path.join(partition,label, f'{image.split(\".\")[0]}.{x}.jpg'))\n",
        "                except Exception as e:\n",
        "                    print(e)"
      ]
    },
    {
      "cell_type": "markdown",
      "metadata": {
        "id": "tSmL5uMN83_M"
      },
      "source": [
        "# split data"
      ]
    },
    {
      "cell_type": "code",
      "execution_count": 2,
      "metadata": {
        "id": "ZwT2bb3983_M"
      },
      "outputs": [],
      "source": [
        "train_dir = os.path.join('train/')\n",
        "test_dir = os.path.join('test/')"
      ]
    },
    {
      "cell_type": "code",
      "execution_count": 84,
      "metadata": {
        "colab": {
          "base_uri": "https://localhost:8080/"
        },
        "id": "avpKYLUX83_M",
        "outputId": "697f2e38-1c56-4125-8c6c-2517c11711df"
      },
      "outputs": [
        {
          "name": "stdout",
          "output_type": "stream",
          "text": [
            "Found 13080 files belonging to 2 classes.\n",
            "Using 11772 files for training.\n",
            "Found 13080 files belonging to 2 classes.\n",
            "Using 2616 files for validation.\n"
          ]
        }
      ],
      "source": [
        "train_generator = tf.keras.utils.image_dataset_from_directory(\n",
        "      train_dir,  # This is the source directory for training images\n",
        "        image_size=(256, 256),  # All images will be resized to 256x256\n",
        "        class_names=['NORMAL','ANEMIA'],\n",
        "        validation_split=0.1, \n",
        "        subset='training', # Menjadi data training sesuai aturan library Tensorflow yang mengharuskan subset training\n",
        "        seed=5, # Seed yaitu lakukan random shuffle dan transformation\n",
        "        label_mode='binary'  # Use binary labels\n",
        "        )\n",
        "\n",
        "validation_generator = tf.keras.utils.image_dataset_from_directory(\n",
        "        test_dir ,  # This is the source directory for training images\n",
        "        image_size=(256, 256),  # All images will be resized to 256x256\n",
        "        class_names=['NORMAL','ANEMIA'], # Inisalisasi label yang sudah dilakukan pelabelan manual\n",
        "        validation_split=0.2, \n",
        "        subset='validation',  # Menjadi data validasi sesuai aturan library Tensorflow yang mengharuskan subset validation\n",
        "        seed=5, # Seed yaitu lakukan random shuffle dan transformation\n",
        "        label_mode='binary',  # Use binary labels\n",
        "       )"
      ]
    },
    {
      "cell_type": "markdown",
      "metadata": {},
      "source": [
        "Visualisasi data setelah augmentasi"
      ]
    },
    {
      "cell_type": "code",
      "execution_count": 89,
      "metadata": {},
      "outputs": [
        {
          "data": {
            "image/png": "[encoded data removed]",
            "text/plain": [
              "<Figure size 936x360 with 1 Axes>"
            ]
          },
          "metadata": {
            "needs_background": "light"
          },
          "output_type": "display_data"
        }
      ],
      "source": [
        "import pandas as pd\n",
        "\n",
        "# visualisasi jumlah data training dan data validation\n",
        "data= [len(train_generator),len(validation_generator)]\n",
        "\n",
        "index = ['Anemia','Normal']\n",
        "data_am = pd.DataFrame({'data': data}, index=index)\n",
        "ax = data_am.plot.bar(rot=0, color=['orange'], figsize=(13,5))\n",
        "ax.set_title(\"Jumlah Data Anemia dan Normal \")\n",
        "for p in ax.patches:\n",
        "    ax.annotate(str(p.get_height()), (p.get_x() * 1.005, p.get_height() * 1.005))\n",
        "    plt.savefig(\"Data_aug_ready_cnn.png\")\n"
      ]
    },
    {
      "cell_type": "markdown",
      "metadata": {
        "id": "Efx4qFdq83_N"
      },
      "source": [
        "### Latih CNN"
      ]
    },
    {
      "cell_type": "code",
      "execution_count": 88,
      "metadata": {
        "id": "sC8T3kwG83_N"
      },
      "outputs": [],
      "source": [
        "model = tf.keras.models.Sequential([\n",
        "tf.keras.layers.Rescaling(1./255,input_shape=(256,256,3)),\n",
        "\n",
        "    # layar konvolusi pertama\n",
        "tf.keras.layers.Conv2D(16, (3,3), activation='relu'),\n",
        "tf.keras.layers.MaxPooling2D(2,2),\n",
        "\n",
        "#Layar Konvolusi Kedua\n",
        "tf.keras.layers.Conv2D(32, (3,3), activation='relu'),\n",
        "tf.keras.layers.MaxPooling2D(2,2),\n",
        "\n",
        "#Layar Konvolusi Ketiga\n",
        "tf.keras.layers.Conv2D(64, (3,3), activation='relu'),\n",
        "tf.keras.layers.MaxPooling2D(2,2),\n",
        "\n",
        "#Layar Konvolusi Keempat\n",
        "tf.keras.layers.Conv2D(64, (3,3), activation='relu'),\n",
        "tf.keras.layers.MaxPooling2D(2,2),\n",
        "\n",
        "\n",
        "#Layar Konvolusi Kelima\n",
        "tf.keras.layers.Conv2D(64, (3,3), activation='relu'),\n",
        "tf.keras.layers.MaxPooling2D(2,2),\n",
        "\n",
        "#Lakukan Flatten\n",
        "tf.keras.layers.Flatten(),\n",
        "\n",
        "#Lakukan Fully connected layer\n",
        "tf.keras.layers.Dense(512, activation='relu'),\n",
        "tf.keras.layers.Dense(1, activation='sigmoid')\n",
        "   \n",
        "])"
      ]
    },
    {
      "cell_type": "code",
      "execution_count": 90,
      "metadata": {
        "colab": {
          "base_uri": "https://localhost:8080/"
        },
        "id": "WagQ3JOx83_N",
        "outputId": "e02116ef-491e-4188-c44f-09701824c40e"
      },
      "outputs": [
        {
          "name": "stdout",
          "output_type": "stream",
          "text": [
            "Model: \"sequential\"\n",
            "_________________________________________________________________\n",
            " Layer (type)                Output Shape              Param #   \n",
            "=================================================================\n",
            " rescaling (Rescaling)       (None, 256, 256, 3)       0         \n",
            "                                                                 \n",
            " conv2d (Conv2D)             (None, 254, 254, 16)      448       \n",
            "                                                                 \n",
            " max_pooling2d (MaxPooling2D  (None, 127, 127, 16)     0         \n",
            " )                                                               \n",
            "                                                                 \n",
            " conv2d_1 (Conv2D)           (None, 125, 125, 32)      4640      \n",
            "                                                                 \n",
            " max_pooling2d_1 (MaxPooling  (None, 62, 62, 32)       0         \n",
            " 2D)                                                             \n",
            "                                                                 \n",
            " conv2d_2 (Conv2D)           (None, 60, 60, 64)        18496     \n",
            "                                                                 \n",
            " max_pooling2d_2 (MaxPooling  (None, 30, 30, 64)       0         \n",
            " 2D)                                                             \n",
            "                                                                 \n",
            " conv2d_3 (Conv2D)           (None, 28, 28, 64)        36928     \n",
            "                                                                 \n",
            " max_pooling2d_3 (MaxPooling  (None, 14, 14, 64)       0         \n",
            " 2D)                                                             \n",
            "                                                                 \n",
            " conv2d_4 (Conv2D)           (None, 12, 12, 64)        36928     \n",
            "                                                                 \n",
            " max_pooling2d_4 (MaxPooling  (None, 6, 6, 64)         0         \n",
            " 2D)                                                             \n",
            "                                                                 \n",
            " flatten (Flatten)           (None, 2304)              0         \n",
            "                                                                 \n",
            " dense (Dense)               (None, 512)               1180160   \n",
            "                                                                 \n",
            " dense_1 (Dense)             (None, 1)                 513       \n",
            "                                                                 \n",
            "=================================================================\n",
            "Total params: 1,278,113\n",
            "Trainable params: 1,278,113\n",
            "Non-trainable params: 0\n",
            "_________________________________________________________________\n"
          ]
        }
      ],
      "source": [
        "model.summary()"
      ]
    },
    {
      "cell_type": "code",
      "execution_count": 6,
      "metadata": {},
      "outputs": [],
      "source": [
        "import pydot "
      ]
    },
    {
      "cell_type": "code",
      "execution_count": 8,
      "metadata": {
        "colab": {
          "base_uri": "https://localhost:8080/",
          "height": 1000
        },
        "id": "aPecFX8WI7ql",
        "outputId": "07741ee7-0abb-445c-f84d-e0d7794d728e"
      },
      "outputs": [
        {
          "name": "stdout",
          "output_type": "stream",
          "text": [
            "You must install pydot (`pip install pydot`) and install graphviz (see instructions at https://graphviz.gitlab.io/download/) for plot_model/model_to_dot to work.\n"
          ]
        }
      ],
      "source": [
        "tf.keras.utils.plot_model(model,to_file='model.png')"
      ]
    },
    {
      "cell_type": "code",
      "execution_count": 91,
      "metadata": {
        "id": "sTmnLLMa83_O"
      },
      "outputs": [],
      "source": [
        "model.compile(optimizer='adam',\n",
        "            loss='binary_crossentropy',\n",
        "            metrics=['accuracy'])"
      ]
    },
    {
      "cell_type": "code",
      "execution_count": 92,
      "metadata": {
        "colab": {
          "base_uri": "https://localhost:8080/"
        },
        "id": "IPKni4bP83_O",
        "outputId": "441f80e3-eff5-4896-fe24-a081792a9146"
      },
      "outputs": [
        {
          "name": "stdout",
          "output_type": "stream",
          "text": [
            "Epoch 1/35\n",
            "10/10 [==============================] - 13s 1s/step - loss: 0.6378 - accuracy: 0.6656 - val_loss: 0.5730 - val_accuracy: 0.7344\n",
            "Epoch 2/35\n",
            "10/10 [==============================] - 8s 813ms/step - loss: 0.5771 - accuracy: 0.7250 - val_loss: 0.5328 - val_accuracy: 0.7312\n",
            "Epoch 3/35\n",
            "10/10 [==============================] - 8s 793ms/step - loss: 0.6069 - accuracy: 0.6781 - val_loss: 0.5774 - val_accuracy: 0.7094\n",
            "Epoch 4/35\n",
            "10/10 [==============================] - 8s 828ms/step - loss: 0.5391 - accuracy: 0.7344 - val_loss: 0.5508 - val_accuracy: 0.7312\n",
            "Epoch 5/35\n",
            "10/10 [==============================] - 8s 843ms/step - loss: 0.5455 - accuracy: 0.7469 - val_loss: 0.4844 - val_accuracy: 0.7375\n",
            "Epoch 6/35\n",
            "10/10 [==============================] - 8s 859ms/step - loss: 0.4789 - accuracy: 0.7625 - val_loss: 0.4896 - val_accuracy: 0.7469\n",
            "Epoch 7/35\n",
            "10/10 [==============================] - 8s 839ms/step - loss: 0.4324 - accuracy: 0.7688 - val_loss: 0.4729 - val_accuracy: 0.8250\n",
            "Epoch 8/35\n",
            "10/10 [==============================] - 8s 825ms/step - loss: 0.5195 - accuracy: 0.8031 - val_loss: 0.5182 - val_accuracy: 0.8125\n",
            "Epoch 9/35\n",
            "10/10 [==============================] - 8s 843ms/step - loss: 0.4433 - accuracy: 0.8250 - val_loss: 0.4995 - val_accuracy: 0.8000\n",
            "Epoch 10/35\n",
            "10/10 [==============================] - 8s 863ms/step - loss: 0.4485 - accuracy: 0.8094 - val_loss: 0.3941 - val_accuracy: 0.8313\n",
            "Epoch 11/35\n",
            "10/10 [==============================] - 8s 843ms/step - loss: 0.4668 - accuracy: 0.7656 - val_loss: 0.4055 - val_accuracy: 0.8500\n",
            "Epoch 12/35\n",
            "10/10 [==============================] - 8s 828ms/step - loss: 0.4031 - accuracy: 0.8531 - val_loss: 0.4261 - val_accuracy: 0.7688\n",
            "Epoch 13/35\n",
            "10/10 [==============================] - 8s 831ms/step - loss: 0.3824 - accuracy: 0.8156 - val_loss: 0.3157 - val_accuracy: 0.8656\n",
            "Epoch 14/35\n",
            "10/10 [==============================] - 8s 827ms/step - loss: 0.3484 - accuracy: 0.8313 - val_loss: 0.3258 - val_accuracy: 0.8594\n",
            "Epoch 15/35\n",
            "10/10 [==============================] - 8s 837ms/step - loss: 0.3453 - accuracy: 0.8594 - val_loss: 0.3055 - val_accuracy: 0.8719\n",
            "Epoch 16/35\n",
            "10/10 [==============================] - 8s 828ms/step - loss: 0.3345 - accuracy: 0.8562 - val_loss: 0.2967 - val_accuracy: 0.8844\n",
            "Epoch 17/35\n",
            "10/10 [==============================] - 8s 835ms/step - loss: 0.2405 - accuracy: 0.9094 - val_loss: 0.2552 - val_accuracy: 0.8781\n",
            "Epoch 18/35\n",
            "10/10 [==============================] - 8s 830ms/step - loss: 0.3023 - accuracy: 0.8594 - val_loss: 0.3013 - val_accuracy: 0.8844\n",
            "Epoch 19/35\n",
            "10/10 [==============================] - 8s 861ms/step - loss: 0.2870 - accuracy: 0.8813 - val_loss: 0.2304 - val_accuracy: 0.9187\n",
            "Epoch 20/35\n",
            "10/10 [==============================] - 8s 830ms/step - loss: 0.2358 - accuracy: 0.9125 - val_loss: 0.1558 - val_accuracy: 0.9281\n",
            "Epoch 21/35\n",
            "10/10 [==============================] - 8s 825ms/step - loss: 0.1546 - accuracy: 0.9531 - val_loss: 0.1440 - val_accuracy: 0.9531\n",
            "Epoch 22/35\n",
            "10/10 [==============================] - 8s 825ms/step - loss: 0.1587 - accuracy: 0.9469 - val_loss: 0.1691 - val_accuracy: 0.9219\n",
            "Epoch 23/35\n",
            "10/10 [==============================] - 8s 821ms/step - loss: 0.1457 - accuracy: 0.9531 - val_loss: 0.1273 - val_accuracy: 0.9469\n",
            "Epoch 24/35\n",
            "10/10 [==============================] - 8s 820ms/step - loss: 0.1493 - accuracy: 0.9375 - val_loss: 0.1256 - val_accuracy: 0.9531\n",
            "Epoch 25/35\n",
            "10/10 [==============================] - 8s 827ms/step - loss: 0.1362 - accuracy: 0.9469 - val_loss: 0.1193 - val_accuracy: 0.9594\n",
            "Epoch 26/35\n",
            "10/10 [==============================] - 8s 832ms/step - loss: 0.1269 - accuracy: 0.9500 - val_loss: 0.0997 - val_accuracy: 0.9531\n",
            "Epoch 27/35\n",
            "10/10 [==============================] - 8s 825ms/step - loss: 0.1017 - accuracy: 0.9625 - val_loss: 0.1024 - val_accuracy: 0.9625\n",
            "Epoch 28/35\n",
            "10/10 [==============================] - 8s 829ms/step - loss: 0.0916 - accuracy: 0.9688 - val_loss: 0.1200 - val_accuracy: 0.9531\n",
            "Epoch 29/35\n",
            "10/10 [==============================] - 8s 834ms/step - loss: 0.1141 - accuracy: 0.9563 - val_loss: 0.1212 - val_accuracy: 0.9438\n",
            "Epoch 30/35\n",
            "10/10 [==============================] - 8s 834ms/step - loss: 0.1546 - accuracy: 0.9438 - val_loss: 0.0777 - val_accuracy: 0.9688\n",
            "Epoch 31/35\n",
            "10/10 [==============================] - 8s 865ms/step - loss: 0.0932 - accuracy: 0.9656 - val_loss: 0.1581 - val_accuracy: 0.9406\n",
            "Epoch 32/35\n",
            "10/10 [==============================] - 8s 841ms/step - loss: 0.1951 - accuracy: 0.9094 - val_loss: 0.0782 - val_accuracy: 0.9750\n",
            "Epoch 33/35\n",
            "10/10 [==============================] - 8s 829ms/step - loss: 0.2049 - accuracy: 0.9062 - val_loss: 0.1046 - val_accuracy: 0.9563\n",
            "Epoch 34/35\n",
            "10/10 [==============================] - 8s 829ms/step - loss: 0.1783 - accuracy: 0.9219 - val_loss: 0.1097 - val_accuracy: 0.9719\n",
            "Epoch 35/35\n",
            "10/10 [==============================] - 8s 828ms/step - loss: 0.1147 - accuracy: 0.9656 - val_loss: 0.0538 - val_accuracy: 0.9812\n"
          ]
        }
      ],
      "source": [
        "history=model.fit(\n",
        "         train_generator,\n",
        "                steps_per_epoch=10,  # berapa step yang akan dieksekusi pada setiap epoch\n",
        "                epochs=35,\n",
        "                validation_data=validation_generator, # menampilkan akurasi pengujian data validasi\n",
        "                validation_steps=10,  # berapa batch yang akan dieksekusi pada setiap epoch\n",
        "                )"
      ]
    },
    {
      "cell_type": "markdown",
      "metadata": {
        "id": "usOg_XYH83_O"
      },
      "source": [
        "Evaluation"
      ]
    },
    {
      "cell_type": "code",
      "execution_count": 93,
      "metadata": {
        "colab": {
          "base_uri": "https://localhost:8080/",
          "height": 294
        },
        "id": "mJLJSOEg83_O",
        "outputId": "bab4e009-2441-41fb-a5b7-39fba8435dd7"
      },
      "outputs": [
        {
          "data": {
            "image/png": "[encoded data removed]",
            "text/plain": [
              "<Figure size 432x288 with 1 Axes>"
            ]
          },
          "metadata": {
            "needs_background": "light"
          },
          "output_type": "display_data"
        }
      ],
      "source": [
        "fig = plt.figure()\n",
        "plt.plot(history.history['loss'], color='teal', label='loss')\n",
        "plt.plot(history.history['val_loss'], color='orange', label='val_loss')\n",
        "fig.suptitle('Loss', fontsize=20)\n",
        "plt.legend(loc=\"upper left\")\n",
        "plt.savefig(\"Loss_And_valLoss.png\")\n",
        "\n",
        "plt.show()"
      ]
    },
    {
      "cell_type": "code",
      "execution_count": 94,
      "metadata": {
        "colab": {
          "base_uri": "https://localhost:8080/",
          "height": 294
        },
        "id": "yOq1coVR83_P",
        "outputId": "99c01d83-26e7-4239-eb3f-563e594e5f05"
      },
      "outputs": [
        {
          "data": {
            "image/png": "[encoded data removed]",
            "text/plain": [
              "<Figure size 432x288 with 1 Axes>"
            ]
          },
          "metadata": {
            "needs_background": "light"
          },
          "output_type": "display_data"
        }
      ],
      "source": [
        "fig = plt.figure()\n",
        "plt.plot(history.history['accuracy'], color='teal', label='accuracy')\n",
        "plt.plot(history.history['val_accuracy'], color='orange', label='val_accuracy')\n",
        "fig.suptitle('Accuracy', fontsize=20)\n",
        "plt.legend(loc=\"upper left\")\n",
        "plt.savefig(\"acc_And_vaAcc.png\")\n",
        "plt.show()"
      ]
    },
    {
      "cell_type": "markdown",
      "metadata": {},
      "source": [
        "Tidak ada, adanya overfitt"
      ]
    },
    {
      "cell_type": "code",
      "execution_count": 115,
      "metadata": {
        "colab": {
          "base_uri": "https://localhost:8080/"
        },
        "id": "k8OYFBv7QeWB",
        "outputId": "e19f273e-396e-4c43-899f-18d72a737e1e"
      },
      "outputs": [
        {
          "name": "stdout",
          "output_type": "stream",
          "text": [
            "82/82 [==============================] - 14s 171ms/step - loss: 0.0569 - accuracy: 0.9824\n"
          ]
        },
        {
          "data": {
            "text/plain": [
              "[0.056873541325330734, 0.9824159145355225]"
            ]
          },
          "execution_count": 115,
          "metadata": {},
          "output_type": "execute_result"
        }
      ],
      "source": [
        "model.evaluate(validation_generator)"
      ]
    },
    {
      "cell_type": "markdown",
      "metadata": {
        "id": "XLzZ9jEe83_P"
      },
      "source": [
        "Save model"
      ]
    },
    {
      "cell_type": "code",
      "execution_count": 23,
      "metadata": {
        "id": "yYkqKjofQ27P"
      },
      "outputs": [],
      "source": [
        "os.mkdir('model')"
      ]
    },
    {
      "cell_type": "code",
      "execution_count": 110,
      "metadata": {
        "id": "ZgaOgswF83_P"
      },
      "outputs": [],
      "source": [
        "from tensorflow.keras.models import load_model\n",
        "modelku=model.save(os.path.join('model','imageclassifier.h5'))"
      ]
    },
    {
      "cell_type": "code",
      "execution_count": 112,
      "metadata": {
        "id": "Y_hlgDd683_P"
      },
      "outputs": [],
      "source": [
        "model= tf.keras.models.load_model('model/imageclassifier.h5')"
      ]
    },
    {
      "cell_type": "markdown",
      "metadata": {
        "id": "qUx4Nq_h83_Q"
      },
      "source": [
        "# Predicted "
      ]
    },
    {
      "cell_type": "code",
      "execution_count": 72,
      "metadata": {
        "id": "05zXUtqTRCCh"
      },
      "outputs": [],
      "source": [
        "from tensorflow.keras.preprocessing import image"
      ]
    },
    {
      "cell_type": "code",
      "execution_count": 113,
      "metadata": {
        "colab": {
          "base_uri": "https://localhost:8080/",
          "height": 321
        },
        "id": "bCpgTUZH83_Q",
        "outputId": "74f893da-0e40-4398-8bd6-a8951cd87f81"
      },
      "outputs": [
        {
          "name": "stdout",
          "output_type": "stream",
          "text": [
            "1/1 [==============================] - 0s 86ms/step\n",
            "[[3.122623e-05]]\n",
            "NORMAL/T_90_20190614_083843_palpebral.png\n",
            " Normal\n"
          ]
        },
        {
          "data": {
            "image/png": "[encoded data removed]",
            "text/plain": [
              "<Figure size 432x288 with 1 Axes>"
            ]
          },
          "metadata": {
            "needs_background": "light"
          },
          "output_type": "display_data"
        }
      ],
      "source": [
        "path = 'NORMAL/T_90_20190614_083843_palpebral.png'\n",
        "\n",
        " \n",
        "img = image.load_img(path, target_size=(256, 256))\n",
        "x = image.img_to_array(img)\n",
        "plt.imshow(x/255.)\n",
        "x = np.expand_dims(x, axis=0)\n",
        "images = np.vstack([x])\n",
        "classes = model.predict(images, batch_size=10)\n",
        "print(classes)\n",
        "if classes>=0.9:\n",
        "    print(path + \"\\n Anemia\")\n",
        "else :\n",
        "    print(path + \"\\n Normal\")\n"
      ]
    }
  ],
  "metadata": {
    "accelerator": "GPU",
    "colab": {
      "collapsed_sections": [],
      "name": "Classification_Anemia.ipynb",
      "provenance": []
    },
    "interpreter": {
      "hash": "85401cbb129b5293c68e17f6dffea86fdfbf67d7dd31d844be9fad510b39b024"
    },
    "kernelspec": {
      "display_name": "Python 3.9.7 ('base')",
      "language": "python",
      "name": "python3"
    },
    "language_info": {
      "codemirror_mode": {
        "name": "ipython",
        "version": 3
      },
      "file_extension": ".py",
      "mimetype": "text/x-python",
      "name": "python",
      "nbconvert_exporter": "python",
      "pygments_lexer": "ipython3",
      "version": "3.9.7"
    },
    "orig_nbformat": 4
  },
  "nbformat": 4,
  "nbformat_minor": 0
}
